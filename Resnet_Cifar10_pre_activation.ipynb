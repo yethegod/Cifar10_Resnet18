{
  "nbformat": 4,
  "nbformat_minor": 0,
  "metadata": {
    "colab": {
      "provenance": [],
      "machine_shape": "hm",
      "gpuType": "A100",
      "authorship_tag": "ABX9TyNnLprNXefyWIjltWKsbjN7",
      "include_colab_link": true
    },
    "kernelspec": {
      "name": "python3",
      "display_name": "Python 3"
    },
    "language_info": {
      "name": "python"
    },
    "accelerator": "GPU"
  },
  "cells": [
    {
      "cell_type": "markdown",
      "metadata": {
        "id": "view-in-github",
        "colab_type": "text"
      },
      "source": [
        "<a href=\"https://colab.research.google.com/github/yethegod/Cifar10_Resnet18/blob/main/Resnet_Cifar10_pre_activation.ipynb\" target=\"_parent\"><img src=\"https://colab.research.google.com/assets/colab-badge.svg\" alt=\"Open In Colab\"/></a>"
      ]
    },
    {
      "cell_type": "code",
      "source": [
        "from google.colab import drive\n",
        "drive.mount('/content/drive')"
      ],
      "metadata": {
        "colab": {
          "base_uri": "https://localhost:8080/",
          "height": 329
        },
        "id": "TLRbKqBBmmcg",
        "outputId": "c8ed9317-739d-4536-fc55-8dd557b8d74e"
      },
      "execution_count": 1,
      "outputs": [
        {
          "output_type": "error",
          "ename": "KeyboardInterrupt",
          "evalue": "",
          "traceback": [
            "\u001b[0;31m---------------------------------------------------------------------------\u001b[0m",
            "\u001b[0;31mKeyboardInterrupt\u001b[0m                         Traceback (most recent call last)",
            "\u001b[0;32m<ipython-input-1-d5df0069828e>\u001b[0m in \u001b[0;36m<cell line: 0>\u001b[0;34m()\u001b[0m\n\u001b[1;32m      1\u001b[0m \u001b[0;32mfrom\u001b[0m \u001b[0mgoogle\u001b[0m\u001b[0;34m.\u001b[0m\u001b[0mcolab\u001b[0m \u001b[0;32mimport\u001b[0m \u001b[0mdrive\u001b[0m\u001b[0;34m\u001b[0m\u001b[0;34m\u001b[0m\u001b[0m\n\u001b[0;32m----> 2\u001b[0;31m \u001b[0mdrive\u001b[0m\u001b[0;34m.\u001b[0m\u001b[0mmount\u001b[0m\u001b[0;34m(\u001b[0m\u001b[0;34m'/content/drive'\u001b[0m\u001b[0;34m)\u001b[0m\u001b[0;34m\u001b[0m\u001b[0;34m\u001b[0m\u001b[0m\n\u001b[0m",
            "\u001b[0;32m/usr/local/lib/python3.11/dist-packages/google/colab/drive.py\u001b[0m in \u001b[0;36mmount\u001b[0;34m(mountpoint, force_remount, timeout_ms, readonly)\u001b[0m\n\u001b[1;32m     98\u001b[0m \u001b[0;32mdef\u001b[0m \u001b[0mmount\u001b[0m\u001b[0;34m(\u001b[0m\u001b[0mmountpoint\u001b[0m\u001b[0;34m,\u001b[0m \u001b[0mforce_remount\u001b[0m\u001b[0;34m=\u001b[0m\u001b[0;32mFalse\u001b[0m\u001b[0;34m,\u001b[0m \u001b[0mtimeout_ms\u001b[0m\u001b[0;34m=\u001b[0m\u001b[0;36m120000\u001b[0m\u001b[0;34m,\u001b[0m \u001b[0mreadonly\u001b[0m\u001b[0;34m=\u001b[0m\u001b[0;32mFalse\u001b[0m\u001b[0;34m)\u001b[0m\u001b[0;34m:\u001b[0m\u001b[0;34m\u001b[0m\u001b[0;34m\u001b[0m\u001b[0m\n\u001b[1;32m     99\u001b[0m   \u001b[0;34m\"\"\"Mount your Google Drive at the specified mountpoint path.\"\"\"\u001b[0m\u001b[0;34m\u001b[0m\u001b[0;34m\u001b[0m\u001b[0m\n\u001b[0;32m--> 100\u001b[0;31m   return _mount(\n\u001b[0m\u001b[1;32m    101\u001b[0m       \u001b[0mmountpoint\u001b[0m\u001b[0;34m,\u001b[0m\u001b[0;34m\u001b[0m\u001b[0;34m\u001b[0m\u001b[0m\n\u001b[1;32m    102\u001b[0m       \u001b[0mforce_remount\u001b[0m\u001b[0;34m=\u001b[0m\u001b[0mforce_remount\u001b[0m\u001b[0;34m,\u001b[0m\u001b[0;34m\u001b[0m\u001b[0;34m\u001b[0m\u001b[0m\n",
            "\u001b[0;32m/usr/local/lib/python3.11/dist-packages/google/colab/drive.py\u001b[0m in \u001b[0;36m_mount\u001b[0;34m(mountpoint, force_remount, timeout_ms, ephemeral, readonly)\u001b[0m\n\u001b[1;32m    135\u001b[0m   )\n\u001b[1;32m    136\u001b[0m   \u001b[0;32mif\u001b[0m \u001b[0mephemeral\u001b[0m\u001b[0;34m:\u001b[0m\u001b[0;34m\u001b[0m\u001b[0;34m\u001b[0m\u001b[0m\n\u001b[0;32m--> 137\u001b[0;31m     _message.blocking_request(\n\u001b[0m\u001b[1;32m    138\u001b[0m         \u001b[0;34m'request_auth'\u001b[0m\u001b[0;34m,\u001b[0m\u001b[0;34m\u001b[0m\u001b[0;34m\u001b[0m\u001b[0m\n\u001b[1;32m    139\u001b[0m         \u001b[0mrequest\u001b[0m\u001b[0;34m=\u001b[0m\u001b[0;34m{\u001b[0m\u001b[0;34m'authType'\u001b[0m\u001b[0;34m:\u001b[0m \u001b[0;34m'dfs_ephemeral'\u001b[0m\u001b[0;34m}\u001b[0m\u001b[0;34m,\u001b[0m\u001b[0;34m\u001b[0m\u001b[0;34m\u001b[0m\u001b[0m\n",
            "\u001b[0;32m/usr/local/lib/python3.11/dist-packages/google/colab/_message.py\u001b[0m in \u001b[0;36mblocking_request\u001b[0;34m(request_type, request, timeout_sec, parent)\u001b[0m\n\u001b[1;32m    174\u001b[0m       \u001b[0mrequest_type\u001b[0m\u001b[0;34m,\u001b[0m \u001b[0mrequest\u001b[0m\u001b[0;34m,\u001b[0m \u001b[0mparent\u001b[0m\u001b[0;34m=\u001b[0m\u001b[0mparent\u001b[0m\u001b[0;34m,\u001b[0m \u001b[0mexpect_reply\u001b[0m\u001b[0;34m=\u001b[0m\u001b[0;32mTrue\u001b[0m\u001b[0;34m\u001b[0m\u001b[0;34m\u001b[0m\u001b[0m\n\u001b[1;32m    175\u001b[0m   )\n\u001b[0;32m--> 176\u001b[0;31m   \u001b[0;32mreturn\u001b[0m \u001b[0mread_reply_from_input\u001b[0m\u001b[0;34m(\u001b[0m\u001b[0mrequest_id\u001b[0m\u001b[0;34m,\u001b[0m \u001b[0mtimeout_sec\u001b[0m\u001b[0;34m)\u001b[0m\u001b[0;34m\u001b[0m\u001b[0;34m\u001b[0m\u001b[0m\n\u001b[0m",
            "\u001b[0;32m/usr/local/lib/python3.11/dist-packages/google/colab/_message.py\u001b[0m in \u001b[0;36mread_reply_from_input\u001b[0;34m(message_id, timeout_sec)\u001b[0m\n\u001b[1;32m     94\u001b[0m     \u001b[0mreply\u001b[0m \u001b[0;34m=\u001b[0m \u001b[0m_read_next_input_message\u001b[0m\u001b[0;34m(\u001b[0m\u001b[0;34m)\u001b[0m\u001b[0;34m\u001b[0m\u001b[0;34m\u001b[0m\u001b[0m\n\u001b[1;32m     95\u001b[0m     \u001b[0;32mif\u001b[0m \u001b[0mreply\u001b[0m \u001b[0;34m==\u001b[0m \u001b[0m_NOT_READY\u001b[0m \u001b[0;32mor\u001b[0m \u001b[0;32mnot\u001b[0m \u001b[0misinstance\u001b[0m\u001b[0;34m(\u001b[0m\u001b[0mreply\u001b[0m\u001b[0;34m,\u001b[0m \u001b[0mdict\u001b[0m\u001b[0;34m)\u001b[0m\u001b[0;34m:\u001b[0m\u001b[0;34m\u001b[0m\u001b[0;34m\u001b[0m\u001b[0m\n\u001b[0;32m---> 96\u001b[0;31m       \u001b[0mtime\u001b[0m\u001b[0;34m.\u001b[0m\u001b[0msleep\u001b[0m\u001b[0;34m(\u001b[0m\u001b[0;36m0.025\u001b[0m\u001b[0;34m)\u001b[0m\u001b[0;34m\u001b[0m\u001b[0;34m\u001b[0m\u001b[0m\n\u001b[0m\u001b[1;32m     97\u001b[0m       \u001b[0;32mcontinue\u001b[0m\u001b[0;34m\u001b[0m\u001b[0;34m\u001b[0m\u001b[0m\n\u001b[1;32m     98\u001b[0m     if (\n",
            "\u001b[0;31mKeyboardInterrupt\u001b[0m: "
          ]
        }
      ]
    },
    {
      "cell_type": "code",
      "execution_count": 2,
      "metadata": {
        "id": "eYpcO1d3k9wY"
      },
      "outputs": [],
      "source": [
        "import torch\n",
        "import torch.nn as nn\n",
        "import torch.optim as optim\n",
        "import torchvision\n",
        "import torchvision.transforms as transforms"
      ]
    },
    {
      "cell_type": "code",
      "source": [
        "transform_train = transforms.Compose([\n",
        "    transforms.RandomCrop(32, padding=4),\n",
        "    transforms.RandomHorizontalFlip(),\n",
        "    transforms.ToTensor(),\n",
        "    transforms.Normalize((0.4914, 0.4822, 0.4465),\n",
        "                         (0.2023, 0.1994, 0.2010))\n",
        "])\n",
        "\n",
        "transform_test = transforms.Compose([\n",
        "    transforms.ToTensor(),\n",
        "    transforms.Normalize((0.4914, 0.4822, 0.4465),\n",
        "                         (0.2023, 0.1994, 0.2010))\n",
        "])\n",
        "\n",
        "train_dataset = torchvision.datasets.CIFAR10(\n",
        "    root='./data',\n",
        "    train=True,\n",
        "    download=True,\n",
        "    transform=transform_train\n",
        ")\n",
        "\n",
        "\n",
        "test_dataset = torchvision.datasets.CIFAR10(\n",
        "    root='./data',\n",
        "    train=False,\n",
        "    download=True,\n",
        "    transform=transform_test\n",
        ")\n",
        "\n",
        "train_loader = torch.utils.data.DataLoader(\n",
        "    train_dataset,\n",
        "    batch_size=128,\n",
        "    shuffle=True,\n",
        "    num_workers=2\n",
        ")\n",
        "\n",
        "test_loader = torch.utils.data.DataLoader(\n",
        "    test_dataset,\n",
        "    batch_size=128,\n",
        "    shuffle=False,\n",
        "    num_workers=2\n",
        ")\n",
        "\n",
        "device = torch.device(\"cuda\" if torch.cuda.is_available() else \"cpu\")\n",
        "print(\"Using device:\", device)"
      ],
      "metadata": {
        "colab": {
          "base_uri": "https://localhost:8080/"
        },
        "id": "AqtVN3CnlbA_",
        "outputId": "a7b0b998-77bd-4fe4-a8b9-4db1e3a0766f"
      },
      "execution_count": 3,
      "outputs": [
        {
          "output_type": "stream",
          "name": "stderr",
          "text": [
            "100%|██████████| 170M/170M [00:13<00:00, 12.8MB/s]\n"
          ]
        },
        {
          "output_type": "stream",
          "name": "stdout",
          "text": [
            "Using device: cuda\n"
          ]
        }
      ]
    },
    {
      "cell_type": "code",
      "source": [
        "class BasicBlock(nn.Module):\n",
        "  expansion = 1\n",
        "\n",
        "  def __init__(self, in_planes, planes, stride=1):\n",
        "    super(BasicBlock, self).__init__()\n",
        "\n",
        "    self.bn1 = nn.BatchNorm2d(in_planes)\n",
        "    self.relu = nn.ReLU(inplace=True)\n",
        "    self.conv1 = nn.Conv2d(in_planes, planes, kernel_size=3, stride=stride, padding=1, bias=False)\n",
        "    self.bn2 = nn.BatchNorm2d(planes)\n",
        "    self.conv2 = nn.Conv2d(planes, planes, kernel_size=3, stride=1, padding=1, bias=False)\n",
        "\n",
        "    if stride != 1 or in_planes != self.expansion * planes:\n",
        "      self.shortcut = nn.Sequential(\n",
        "        nn.Conv2d(in_planes, self.expansion * planes, 1, stride, bias=False),\n",
        "        nn.BatchNorm2d(self.expansion * planes)\n",
        "    )\n",
        "    else:\n",
        "      self.shortcut = nn.Sequential()\n",
        "\n",
        "\n",
        "  def forward(self, x):\n",
        "    out = self.bn1(x)\n",
        "    out = self.relu(out)\n",
        "    out = self.conv1(out)\n",
        "    out = self.bn2(out)\n",
        "    out = self.relu(out)\n",
        "    out = self.conv2(out)\n",
        "    out += self.shortcut(x)\n",
        "    return out"
      ],
      "metadata": {
        "id": "qmaVBW4qod3Q"
      },
      "execution_count": 35,
      "outputs": []
    },
    {
      "cell_type": "code",
      "source": [
        "class resnet(nn.Module):\n",
        "  def __init__(self, block, num_blocks, num_classes=10):\n",
        "    super(resnet, self).__init__()\n",
        "    self.in_planes = 64\n",
        "\n",
        "    self.conv1 = nn.Conv2d(3, 64, kernel_size=3, stride=1, padding=1, bias=False)\n",
        "    self.bn1 = nn.BatchNorm2d(64)\n",
        "    self.relu = nn.ReLU(inplace=True)\n",
        "    self.layer1 = self._make_layer(block, 64, num_blocks[0], stride=1)\n",
        "    self.layer2 = self._make_layer(block, 128, num_blocks[1], stride=2)\n",
        "    self.layer3 = self._make_layer(block, 256, num_blocks[2], stride=2)\n",
        "    self.layer4 = self._make_layer(block, 512, num_blocks[3], stride=2)\n",
        "\n",
        "    self.avgpool = nn.AdaptiveAvgPool2d((1, 1))\n",
        "    self.fc = nn.Linear(512 * block.expansion, num_classes)\n",
        "\n",
        "    for m in self.modules():\n",
        "      if isinstance(m, nn.Conv2d):\n",
        "        nn.init.kaiming_normal_(m.weight, mode='fan_out', nonlinearity='relu')\n",
        "      elif isinstance(m, (nn.BatchNorm2d, nn.GroupNorm)):\n",
        "        nn.init.constant_(m.weight, 1)\n",
        "        nn.init.constant_(m.bias, 0)\n",
        "\n",
        "  def _make_layer(self, block, planes, num_blocks, stride):\n",
        "    strides = [stride] + [1] * (num_blocks - 1)\n",
        "    layers = []\n",
        "    for s in strides:\n",
        "      layers.append(block(self.in_planes, planes, s))\n",
        "      self.in_planes = planes * block.expansion\n",
        "    return nn.Sequential(*layers)\n",
        "\n",
        "  def forward(self, x):\n",
        "    x = self.conv1(x)\n",
        "\n",
        "    x = self.bn1(x)\n",
        "    x = self.relu(x)\n",
        "\n",
        "\n",
        "    x = self.layer1(x)\n",
        "\n",
        "    x = self.layer2(x)\n",
        "\n",
        "    x = self.layer3(x)\n",
        "\n",
        "    x = self.layer4(x)\n",
        "\n",
        "    x = self.avgpool(x)\n",
        "    x = torch.flatten(x, 1)\n",
        "    x = self.fc(x)\n",
        "    return x"
      ],
      "metadata": {
        "id": "jg9BJ2gIqF40"
      },
      "execution_count": 42,
      "outputs": []
    },
    {
      "cell_type": "code",
      "source": [
        "def resnet18(num_classes=10):\n",
        "  return resnet(BasicBlock, [2, 2, 2, 2], num_classes=num_classes)"
      ],
      "metadata": {
        "id": "rHAzQt1Uy6i9"
      },
      "execution_count": 43,
      "outputs": []
    },
    {
      "cell_type": "code",
      "source": [
        "model = resnet18(num_classes=10).to(device)\n",
        "criterion = nn.CrossEntropyLoss()\n",
        "optimizer = optim.SGD(model.parameters(), lr=0.1, momentum=0.9, weight_decay=5e-4)"
      ],
      "metadata": {
        "id": "9q2t9gjZzcgp"
      },
      "execution_count": 44,
      "outputs": []
    },
    {
      "cell_type": "code",
      "source": [
        "def train_one_epoch(model, criterion, optimizer, train_loader, device):\n",
        "  model.train()\n",
        "  running_loss = 0.0\n",
        "  correct = 0\n",
        "  total = 0\n",
        "\n",
        "  for inputs, labels in train_loader:\n",
        "    inputs, labels = inputs.to(device), labels.to(device)\n",
        "\n",
        "    optimizer.zero_grad()\n",
        "\n",
        "    outputs = model(inputs)\n",
        "    loss = criterion(outputs, labels)\n",
        "    loss.backward()\n",
        "    optimizer.step()\n",
        "\n",
        "    running_loss += loss.item()*inputs.size(0)\n",
        "    _, predicted = outputs.max(1)\n",
        "    total += labels.size(0)\n",
        "    correct += predicted.eq(labels).sum().item()\n",
        "\n",
        "  epoch_loss = running_loss / total\n",
        "  epoch_acc = correct / total\n",
        "  return epoch_loss, epoch_acc"
      ],
      "metadata": {
        "id": "NKmCCLXCzhGQ"
      },
      "execution_count": 45,
      "outputs": []
    },
    {
      "cell_type": "code",
      "source": [
        "def evaluate(model, criterion, test_loader, device):\n",
        "  model.eval()\n",
        "  running_loss = 0.0\n",
        "  correct = 0\n",
        "  total = 0\n",
        "\n",
        "  with torch.no_grad():\n",
        "    for inputs, labels in test_loader:\n",
        "      inputs, labels = inputs.to(device), labels.to(device)\n",
        "      outputs = model(inputs)\n",
        "      loss = criterion(outputs, labels)\n",
        "\n",
        "      running_loss += loss.item()*inputs.size(0)\n",
        "      _, predicted = outputs.max(1)\n",
        "      total += labels.size(0)\n",
        "      correct += predicted.eq(labels).sum().item()\n",
        "  epoch_loss = running_loss / total\n",
        "  epoch_acc = correct / total\n",
        "  return epoch_loss, epoch_acc"
      ],
      "metadata": {
        "id": "ntWZ8kV98Bcw"
      },
      "execution_count": 46,
      "outputs": []
    },
    {
      "cell_type": "code",
      "source": [
        "import matplotlib.pyplot as plt\n",
        "\n",
        "num_epochs = 50\n",
        "\n",
        "train_loss_history = []\n",
        "test_loss_history = []\n",
        "\n",
        "for epoch in range(num_epochs):\n",
        "    train_loss, train_acc = train_one_epoch(model, criterion, optimizer, train_loader, device)\n",
        "    test_loss, test_acc = evaluate(model, criterion, test_loader, device)\n",
        "\n",
        "\n",
        "    print(f\"Epoch [{epoch+1}/{num_epochs}] \"\n",
        "          f\"Train Loss: {train_loss:.4f}, Train Acc: {train_acc:.2f}| \"\n",
        "          f\"Test Loss: {test_loss:.4f}, Test Acc: {test_acc:.2f}\")\n",
        "\n",
        "\n",
        "    train_loss_history.append(train_loss)\n",
        "    test_loss_history.append(test_loss)"
      ],
      "metadata": {
        "colab": {
          "base_uri": "https://localhost:8080/"
        },
        "id": "lhYAMD0Y8PnN",
        "outputId": "985730f5-e55a-45c6-b32d-0a5bf6b1798f"
      },
      "execution_count": 47,
      "outputs": [
        {
          "output_type": "stream",
          "name": "stdout",
          "text": [
            "Epoch [1/50] Train Loss: 6.9964, Train Acc: 0.11| Test Loss: 2.2520, Test Acc: 0.16\n",
            "Epoch [2/50] Train Loss: 2.0913, Train Acc: 0.20| Test Loss: 1.9474, Test Acc: 0.23\n",
            "Epoch [3/50] Train Loss: 1.9131, Train Acc: 0.25| Test Loss: 1.7577, Test Acc: 0.31\n",
            "Epoch [4/50] Train Loss: 1.7505, Train Acc: 0.32| Test Loss: 1.7333, Test Acc: 0.34\n",
            "Epoch [5/50] Train Loss: 1.6357, Train Acc: 0.38| Test Loss: 1.6274, Test Acc: 0.40\n",
            "Epoch [6/50] Train Loss: 1.5133, Train Acc: 0.43| Test Loss: 1.5452, Test Acc: 0.43\n",
            "Epoch [7/50] Train Loss: 1.3719, Train Acc: 0.50| Test Loss: 1.3236, Test Acc: 0.52\n",
            "Epoch [8/50] Train Loss: 1.1783, Train Acc: 0.57| Test Loss: 1.9328, Test Acc: 0.45\n",
            "Epoch [9/50] Train Loss: 1.0087, Train Acc: 0.64| Test Loss: 1.2884, Test Acc: 0.57\n",
            "Epoch [10/50] Train Loss: 0.8578, Train Acc: 0.70| Test Loss: 1.5912, Test Acc: 0.56\n",
            "Epoch [11/50] Train Loss: 0.7634, Train Acc: 0.74| Test Loss: 1.0480, Test Acc: 0.64\n",
            "Epoch [12/50] Train Loss: 0.6949, Train Acc: 0.76| Test Loss: 0.7026, Test Acc: 0.76\n",
            "Epoch [13/50] Train Loss: 0.6469, Train Acc: 0.78| Test Loss: 0.7743, Test Acc: 0.74\n",
            "Epoch [14/50] Train Loss: 0.6029, Train Acc: 0.79| Test Loss: 0.7106, Test Acc: 0.76\n",
            "Epoch [15/50] Train Loss: 0.5755, Train Acc: 0.80| Test Loss: 1.0897, Test Acc: 0.68\n",
            "Epoch [16/50] Train Loss: 0.5549, Train Acc: 0.81| Test Loss: 0.7361, Test Acc: 0.77\n",
            "Epoch [17/50] Train Loss: 0.5613, Train Acc: 0.81| Test Loss: 0.6241, Test Acc: 0.79\n",
            "Epoch [18/50] Train Loss: 0.5242, Train Acc: 0.82| Test Loss: 1.5295, Test Acc: 0.61\n",
            "Epoch [19/50] Train Loss: 0.5075, Train Acc: 0.83| Test Loss: 0.5986, Test Acc: 0.80\n",
            "Epoch [20/50] Train Loss: 0.4947, Train Acc: 0.83| Test Loss: 0.6699, Test Acc: 0.77\n",
            "Epoch [21/50] Train Loss: 0.4869, Train Acc: 0.83| Test Loss: 0.8005, Test Acc: 0.75\n",
            "Epoch [22/50] Train Loss: 0.4758, Train Acc: 0.84| Test Loss: 0.5628, Test Acc: 0.82\n",
            "Epoch [23/50] Train Loss: 0.4683, Train Acc: 0.84| Test Loss: 0.6365, Test Acc: 0.79\n",
            "Epoch [24/50] Train Loss: 0.4599, Train Acc: 0.84| Test Loss: 0.6485, Test Acc: 0.79\n",
            "Epoch [25/50] Train Loss: 0.4577, Train Acc: 0.84| Test Loss: 0.7017, Test Acc: 0.77\n",
            "Epoch [26/50] Train Loss: 0.4447, Train Acc: 0.85| Test Loss: 0.7187, Test Acc: 0.78\n",
            "Epoch [27/50] Train Loss: 0.4439, Train Acc: 0.85| Test Loss: 0.5411, Test Acc: 0.82\n",
            "Epoch [28/50] Train Loss: 0.4391, Train Acc: 0.85| Test Loss: 0.5947, Test Acc: 0.81\n",
            "Epoch [29/50] Train Loss: 0.4287, Train Acc: 0.85| Test Loss: 0.5837, Test Acc: 0.82\n",
            "Epoch [30/50] Train Loss: 0.4284, Train Acc: 0.85| Test Loss: 0.6506, Test Acc: 0.80\n",
            "Epoch [31/50] Train Loss: 0.4230, Train Acc: 0.85| Test Loss: 1.0180, Test Acc: 0.72\n",
            "Epoch [32/50] Train Loss: 0.4180, Train Acc: 0.86| Test Loss: 0.5103, Test Acc: 0.83\n",
            "Epoch [33/50] Train Loss: 0.4233, Train Acc: 0.85| Test Loss: 0.5377, Test Acc: 0.82\n",
            "Epoch [34/50] Train Loss: 0.4092, Train Acc: 0.86| Test Loss: 0.5778, Test Acc: 0.81\n",
            "Epoch [35/50] Train Loss: 0.4133, Train Acc: 0.86| Test Loss: 0.5872, Test Acc: 0.81\n",
            "Epoch [36/50] Train Loss: 0.4038, Train Acc: 0.86| Test Loss: 0.5990, Test Acc: 0.80\n",
            "Epoch [37/50] Train Loss: 0.4057, Train Acc: 0.86| Test Loss: 0.4459, Test Acc: 0.85\n",
            "Epoch [38/50] Train Loss: 0.3958, Train Acc: 0.86| Test Loss: 0.7071, Test Acc: 0.79\n",
            "Epoch [39/50] Train Loss: 0.3957, Train Acc: 0.86| Test Loss: 0.5803, Test Acc: 0.81\n",
            "Epoch [40/50] Train Loss: 0.3913, Train Acc: 0.87| Test Loss: 0.5571, Test Acc: 0.82\n",
            "Epoch [41/50] Train Loss: 0.3840, Train Acc: 0.87| Test Loss: 0.5398, Test Acc: 0.82\n",
            "Epoch [42/50] Train Loss: 0.3940, Train Acc: 0.87| Test Loss: 0.6460, Test Acc: 0.79\n",
            "Epoch [43/50] Train Loss: 0.3785, Train Acc: 0.87| Test Loss: 0.6306, Test Acc: 0.79\n",
            "Epoch [44/50] Train Loss: 0.3882, Train Acc: 0.87| Test Loss: 0.7061, Test Acc: 0.78\n",
            "Epoch [45/50] Train Loss: 0.3946, Train Acc: 0.86| Test Loss: 0.5412, Test Acc: 0.82\n",
            "Epoch [46/50] Train Loss: 0.3805, Train Acc: 0.87| Test Loss: 0.5857, Test Acc: 0.81\n",
            "Epoch [47/50] Train Loss: 0.3847, Train Acc: 0.87| Test Loss: 0.6246, Test Acc: 0.81\n",
            "Epoch [48/50] Train Loss: 0.3815, Train Acc: 0.87| Test Loss: 0.5847, Test Acc: 0.81\n",
            "Epoch [49/50] Train Loss: 0.3719, Train Acc: 0.87| Test Loss: 0.9966, Test Acc: 0.70\n",
            "Epoch [50/50] Train Loss: 0.3806, Train Acc: 0.87| Test Loss: 0.6707, Test Acc: 0.79\n"
          ]
        }
      ]
    },
    {
      "cell_type": "code",
      "source": [
        "\n",
        "plt.plot(range(num_epochs), train_loss_history, label='Train Loss')\n",
        "\n",
        "plt.xlabel('Epoch')\n",
        "plt.ylabel('Loss')\n",
        "plt.legend()\n",
        "plt.show()"
      ],
      "metadata": {
        "colab": {
          "base_uri": "https://localhost:8080/",
          "height": 449
        },
        "id": "2LAVlwz88Xp4",
        "outputId": "82bd9928-3072-4ed5-ee61-3fdb7435d215"
      },
      "execution_count": 48,
      "outputs": [
        {
          "output_type": "display_data",
          "data": {
            "text/plain": [
              "<Figure size 640x480 with 1 Axes>"
            ],
            "image/png": "[encoded data removed]"
          },
          "metadata": {}
        }
      ]
    }
  ]
}