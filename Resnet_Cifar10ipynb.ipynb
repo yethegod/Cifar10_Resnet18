{
  "nbformat": 4,
  "nbformat_minor": 0,
  "metadata": {
    "colab": {
      "provenance": [],
      "machine_shape": "hm",
      "gpuType": "A100",
      "authorship_tag": "ABX9TyPYBKfOTxd4S6lh/DgsTohN",
      "include_colab_link": true
    },
    "kernelspec": {
      "name": "python3",
      "display_name": "Python 3"
    },
    "language_info": {
      "name": "python"
    },
    "accelerator": "GPU"
  },
  "cells": [
    {
      "cell_type": "markdown",
      "metadata": {
        "id": "view-in-github",
        "colab_type": "text"
      },
      "source": [
        "<a href=\"https://colab.research.google.com/github/yethegod/Cifar10_Resnet18/blob/main/Resnet_Cifar10ipynb.ipynb\" target=\"_parent\"><img src=\"https://colab.research.google.com/assets/colab-badge.svg\" alt=\"Open In Colab\"/></a>"
      ]
    },
    {
      "cell_type": "code",
      "source": [
        "from google.colab import drive\n",
        "drive.mount('/content/drive')"
      ],
      "metadata": {
        "colab": {
          "base_uri": "https://localhost:8080/"
        },
        "id": "TLRbKqBBmmcg",
        "outputId": "69a22aed-4355-4916-dc56-eecdc5fdd126"
      },
      "execution_count": 6,
      "outputs": [
        {
          "output_type": "stream",
          "name": "stdout",
          "text": [
            "Mounted at /content/drive\n"
          ]
        }
      ]
    },
    {
      "cell_type": "code",
      "execution_count": 7,
      "metadata": {
        "id": "eYpcO1d3k9wY"
      },
      "outputs": [],
      "source": [
        "import torch\n",
        "import torch.nn as nn\n",
        "import torch.optim as optim\n",
        "import torchvision\n",
        "import torchvision.transforms as transforms"
      ]
    },
    {
      "cell_type": "code",
      "source": [
        "transform_train = transforms.Compose([\n",
        "    transforms.RandomCrop(32, padding=4),\n",
        "    transforms.RandomHorizontalFlip(),\n",
        "    transforms.ToTensor(),\n",
        "    transforms.Normalize((0.4914, 0.4822, 0.4465),\n",
        "                         (0.2023, 0.1994, 0.2010))\n",
        "])\n",
        "\n",
        "transform_test = transforms.Compose([\n",
        "    transforms.ToTensor(),\n",
        "    transforms.Normalize((0.4914, 0.4822, 0.4465),\n",
        "                         (0.2023, 0.1994, 0.2010))\n",
        "])\n",
        "\n",
        "train_dataset = torchvision.datasets.CIFAR10(\n",
        "    root='./data',\n",
        "    train=True,\n",
        "    download=True,\n",
        "    transform=transform_train\n",
        ")\n",
        "\n",
        "\n",
        "test_dataset = torchvision.datasets.CIFAR10(\n",
        "    root='./data',\n",
        "    train=False,\n",
        "    download=True,\n",
        "    transform=transform_test\n",
        ")\n",
        "\n",
        "train_loader = torch.utils.data.DataLoader(\n",
        "    train_dataset,\n",
        "    batch_size=128,\n",
        "    shuffle=True,\n",
        "    num_workers=2\n",
        ")\n",
        "\n",
        "test_loader = torch.utils.data.DataLoader(\n",
        "    test_dataset,\n",
        "    batch_size=128,\n",
        "    shuffle=False,\n",
        "    num_workers=2\n",
        ")\n",
        "\n",
        "device = torch.device(\"cuda\" if torch.cuda.is_available() else \"cpu\")\n",
        "print(\"Using device:\", device)"
      ],
      "metadata": {
        "colab": {
          "base_uri": "https://localhost:8080/"
        },
        "id": "AqtVN3CnlbA_",
        "outputId": "704a27d6-597b-478c-b05b-8e5105c18579"
      },
      "execution_count": 8,
      "outputs": [
        {
          "output_type": "stream",
          "name": "stdout",
          "text": [
            "Files already downloaded and verified\n",
            "Files already downloaded and verified\n",
            "Using device: cuda\n"
          ]
        }
      ]
    },
    {
      "cell_type": "code",
      "source": [
        "class BasicBlock(nn.Module):\n",
        "  expansion = 1\n",
        "\n",
        "  def __init__(self, in_planes, planes, stride=1):\n",
        "    super(BasicBlock, self).__init__()\n",
        "    self.conv1 = nn.Conv2d(in_planes, planes, kernel_size=3, stride=stride, padding=1, bias=False)\n",
        "    self.bn1 = nn.BatchNorm2d(planes)\n",
        "    self.relu = nn.ReLU(inplace=True)\n",
        "    self.conv2 = nn.Conv2d(planes, planes, kernel_size=3, stride=1, padding=1, bias=False)\n",
        "    self.bn2 = nn.BatchNorm2d(planes)\n",
        "\n",
        "    self.shortcut = nn.Sequential()\n",
        "    if stride != 1 or in_planes != self.expansion * planes:\n",
        "      self.shortcut = nn.Sequential(\n",
        "          nn.Conv2d(in_planes, self.expansion * planes, kernel_size=1, stride=stride, bias=False),\n",
        "          nn.BatchNorm2d(self.expansion * planes)\n",
        "      )\n",
        "\n",
        "  def forward(self, x):\n",
        "   out = self.relu(self.bn1(self.conv1(x)))\n",
        "   out = self.bn2(self.conv2(out))\n",
        "   out += self.shortcut(x)\n",
        "   return out"
      ],
      "metadata": {
        "id": "qmaVBW4qod3Q"
      },
      "execution_count": 9,
      "outputs": []
    },
    {
      "cell_type": "code",
      "source": [
        "class resnet(nn.Module):\n",
        "  def __init__(self, block, num_blocks, num_classes=10):\n",
        "    super(resnet, self).__init__()\n",
        "    self.in_planes = 64\n",
        "\n",
        "    self.conv1 = nn.Conv2d(3, 64, kernel_size=3, stride=1, padding=1, bias=False)\n",
        "    self.bn1 = nn.BatchNorm2d(64)\n",
        "    self.relu = nn.ReLU(inplace=True)\n",
        "    self.layer1 = self._make_layer(block, 64, num_blocks[0], stride=1)\n",
        "    self.layer2 = self._make_layer(block, 128, num_blocks[1], stride=2)\n",
        "    self.layer3 = self._make_layer(block, 256, num_blocks[2], stride=2)\n",
        "    self.layer4 = self._make_layer(block, 512, num_blocks[3], stride=2)\n",
        "\n",
        "    self.avgpool = nn.AdaptiveAvgPool2d((1, 1))\n",
        "    self.fc = nn.Linear(512 * block.expansion, num_classes)\n",
        "\n",
        "    for m in self.modules():\n",
        "      if isinstance(m, nn.Conv2d):\n",
        "        nn.init.kaiming_normal_(m.weight, mode='fan_out', nonlinearity='relu')\n",
        "      elif isinstance(m, (nn.BatchNorm2d, nn.GroupNorm)):\n",
        "        nn.init.constant_(m.weight, 1)\n",
        "        nn.init.constant_(m.bias, 0)\n",
        "\n",
        "  def _make_layer(self, block, planes, num_blocks, stride):\n",
        "    strides = [stride] + [1] * (num_blocks - 1)\n",
        "    layers = []\n",
        "    for s in strides:\n",
        "      layers.append(block(self.in_planes, planes, s))\n",
        "      self.in_planes = planes * block.expansion\n",
        "    return nn.Sequential(*layers)\n",
        "\n",
        "  def forward(self, x):\n",
        "    x = self.conv1(x)\n",
        "    x = self.bn1(x)\n",
        "    x = self.relu(x)\n",
        "\n",
        "    x = self.layer1(x)\n",
        "    x = self.layer2(x)\n",
        "    x = self.layer3(x)\n",
        "    x = self.layer4(x)\n",
        "\n",
        "    x = self.avgpool(x)\n",
        "    x = torch.flatten(x, 1)\n",
        "    x = self.fc(x)\n",
        "    return x"
      ],
      "metadata": {
        "id": "jg9BJ2gIqF40"
      },
      "execution_count": 10,
      "outputs": []
    },
    {
      "cell_type": "code",
      "source": [
        "def resnet18(num_classes=10):\n",
        "  return resnet(BasicBlock, [2, 2, 2, 2], num_classes=num_classes)"
      ],
      "metadata": {
        "id": "rHAzQt1Uy6i9"
      },
      "execution_count": 11,
      "outputs": []
    },
    {
      "cell_type": "code",
      "source": [
        "model = resnet18(num_classes=10).to(device)\n",
        "criterion = nn.CrossEntropyLoss()\n",
        "optimizer = optim.SGD(model.parameters(), lr=0.1, momentum=0.9, weight_decay=5e-4)"
      ],
      "metadata": {
        "id": "9q2t9gjZzcgp"
      },
      "execution_count": 12,
      "outputs": []
    },
    {
      "cell_type": "code",
      "source": [
        "def train_one_epoch(model, criterion, optimizer, train_loader, device):\n",
        "  model.train()\n",
        "  running_loss = 0.0\n",
        "  correct = 0\n",
        "  total = 0\n",
        "\n",
        "  for inputs, labels in train_loader:\n",
        "    inputs, labels = inputs.to(device), labels.to(device)\n",
        "\n",
        "    optimizer.zero_grad()\n",
        "\n",
        "    outputs = model(inputs)\n",
        "    loss = criterion(outputs, labels)\n",
        "    loss.backward()\n",
        "    optimizer.step()\n",
        "\n",
        "    running_loss += loss.item()*inputs.size(0)\n",
        "    _, predicted = outputs.max(1)\n",
        "    total += labels.size(0)\n",
        "    correct += predicted.eq(labels).sum().item()\n",
        "\n",
        "  epoch_loss = running_loss / total\n",
        "  epoch_acc = correct / total\n",
        "  return epoch_loss, epoch_acc"
      ],
      "metadata": {
        "id": "NKmCCLXCzhGQ"
      },
      "execution_count": 13,
      "outputs": []
    },
    {
      "cell_type": "code",
      "source": [
        "def evaluate(model, criterion, test_loader, device):\n",
        "  model.eval()\n",
        "  running_loss = 0.0\n",
        "  correct = 0\n",
        "  total = 0\n",
        "\n",
        "  with torch.no_grad():\n",
        "    for inputs, labels in test_loader:\n",
        "      inputs, labels = inputs.to(device), labels.to(device)\n",
        "      outputs = model(inputs)\n",
        "      loss = criterion(outputs, labels)\n",
        "\n",
        "      running_loss += loss.item()*inputs.size(0)\n",
        "      _, predicted = outputs.max(1)\n",
        "      total += labels.size(0)\n",
        "      correct += predicted.eq(labels).sum().item()\n",
        "  epoch_loss = running_loss / total\n",
        "  epoch_acc = correct / total\n",
        "  return epoch_loss, epoch_acc"
      ],
      "metadata": {
        "id": "ntWZ8kV98Bcw"
      },
      "execution_count": 14,
      "outputs": []
    },
    {
      "cell_type": "code",
      "source": [
        "import matplotlib.pyplot as plt\n",
        "\n",
        "num_epochs = 50  # 你可以根据需要修改\n",
        "\n",
        "train_loss_history = []\n",
        "test_loss_history = []\n",
        "\n",
        "for epoch in range(num_epochs):\n",
        "    train_loss, train_acc = train_one_epoch(model, criterion, optimizer, train_loader, device)\n",
        "    test_loss, test_acc = evaluate(model, criterion, test_loader, device)\n",
        "\n",
        "    # 打印日志\n",
        "    print(f\"Epoch [{epoch+1}/{num_epochs}] \"\n",
        "          f\"Train Loss: {train_loss:.4f}, Train Acc: {train_acc:.2f}| \"\n",
        "          f\"Test Loss: {test_loss:.4f}, Test Acc: {test_acc:.2f}\")\n",
        "\n",
        "    # 将 loss 记录到列表中\n",
        "    train_loss_history.append(train_loss)\n",
        "    test_loss_history.append(test_loss)"
      ],
      "metadata": {
        "colab": {
          "base_uri": "https://localhost:8080/"
        },
        "id": "lhYAMD0Y8PnN",
        "outputId": "97a0bfc4-cd8a-46b0-e38b-90216df5b62b"
      },
      "execution_count": 15,
      "outputs": [
        {
          "output_type": "stream",
          "name": "stdout",
          "text": [
            "Epoch [1/50] Train Loss: 1.6737, Train Acc: 0.39| Test Loss: 1.4196, Test Acc: 0.49\n",
            "Epoch [2/50] Train Loss: 1.2244, Train Acc: 0.56| Test Loss: 1.1349, Test Acc: 0.59\n",
            "Epoch [3/50] Train Loss: 0.9711, Train Acc: 0.66| Test Loss: 0.9724, Test Acc: 0.66\n",
            "Epoch [4/50] Train Loss: 0.8351, Train Acc: 0.71| Test Loss: 1.0598, Test Acc: 0.64\n",
            "Epoch [5/50] Train Loss: 0.7451, Train Acc: 0.74| Test Loss: 0.7739, Test Acc: 0.73\n",
            "Epoch [6/50] Train Loss: 0.6821, Train Acc: 0.76| Test Loss: 0.7037, Test Acc: 0.76\n",
            "Epoch [7/50] Train Loss: 0.6375, Train Acc: 0.78| Test Loss: 0.6738, Test Acc: 0.77\n",
            "Epoch [8/50] Train Loss: 0.6053, Train Acc: 0.79| Test Loss: 0.6600, Test Acc: 0.78\n",
            "Epoch [9/50] Train Loss: 0.5843, Train Acc: 0.80| Test Loss: 0.7596, Test Acc: 0.75\n",
            "Epoch [10/50] Train Loss: 0.5651, Train Acc: 0.81| Test Loss: 0.7438, Test Acc: 0.75\n",
            "Epoch [11/50] Train Loss: 0.5516, Train Acc: 0.81| Test Loss: 0.5959, Test Acc: 0.80\n",
            "Epoch [12/50] Train Loss: 0.5294, Train Acc: 0.82| Test Loss: 0.6320, Test Acc: 0.78\n",
            "Epoch [13/50] Train Loss: 0.5224, Train Acc: 0.82| Test Loss: 0.6260, Test Acc: 0.79\n",
            "Epoch [14/50] Train Loss: 0.5072, Train Acc: 0.83| Test Loss: 0.6205, Test Acc: 0.79\n",
            "Epoch [15/50] Train Loss: 0.5067, Train Acc: 0.83| Test Loss: 0.6185, Test Acc: 0.80\n",
            "Epoch [16/50] Train Loss: 0.4933, Train Acc: 0.83| Test Loss: 0.6652, Test Acc: 0.78\n",
            "Epoch [17/50] Train Loss: 0.4871, Train Acc: 0.83| Test Loss: 0.5824, Test Acc: 0.80\n",
            "Epoch [18/50] Train Loss: 0.4830, Train Acc: 0.83| Test Loss: 0.5398, Test Acc: 0.82\n",
            "Epoch [19/50] Train Loss: 0.4692, Train Acc: 0.84| Test Loss: 0.6830, Test Acc: 0.78\n",
            "Epoch [20/50] Train Loss: 0.4665, Train Acc: 0.84| Test Loss: 0.6693, Test Acc: 0.78\n",
            "Epoch [21/50] Train Loss: 0.4649, Train Acc: 0.84| Test Loss: 0.6551, Test Acc: 0.78\n",
            "Epoch [22/50] Train Loss: 0.4588, Train Acc: 0.84| Test Loss: 0.6779, Test Acc: 0.77\n",
            "Epoch [23/50] Train Loss: 0.4495, Train Acc: 0.85| Test Loss: 0.6097, Test Acc: 0.80\n",
            "Epoch [24/50] Train Loss: 0.4471, Train Acc: 0.85| Test Loss: 0.6204, Test Acc: 0.80\n",
            "Epoch [25/50] Train Loss: 0.4370, Train Acc: 0.85| Test Loss: 0.6306, Test Acc: 0.79\n",
            "Epoch [26/50] Train Loss: 0.4430, Train Acc: 0.85| Test Loss: 0.5220, Test Acc: 0.82\n",
            "Epoch [27/50] Train Loss: 0.4371, Train Acc: 0.85| Test Loss: 0.6057, Test Acc: 0.81\n",
            "Epoch [28/50] Train Loss: 0.4301, Train Acc: 0.85| Test Loss: 0.6327, Test Acc: 0.79\n",
            "Epoch [29/50] Train Loss: 0.4289, Train Acc: 0.85| Test Loss: 0.7146, Test Acc: 0.76\n",
            "Epoch [30/50] Train Loss: 0.4347, Train Acc: 0.85| Test Loss: 0.5893, Test Acc: 0.81\n",
            "Epoch [31/50] Train Loss: 0.4256, Train Acc: 0.85| Test Loss: 0.5410, Test Acc: 0.82\n",
            "Epoch [32/50] Train Loss: 0.4247, Train Acc: 0.86| Test Loss: 0.6873, Test Acc: 0.78\n",
            "Epoch [33/50] Train Loss: 0.4237, Train Acc: 0.85| Test Loss: 0.5765, Test Acc: 0.81\n",
            "Epoch [34/50] Train Loss: 0.4164, Train Acc: 0.86| Test Loss: 0.5818, Test Acc: 0.82\n",
            "Epoch [35/50] Train Loss: 0.4179, Train Acc: 0.86| Test Loss: 0.7036, Test Acc: 0.78\n",
            "Epoch [36/50] Train Loss: 0.4210, Train Acc: 0.86| Test Loss: 0.4789, Test Acc: 0.84\n",
            "Epoch [37/50] Train Loss: 0.4148, Train Acc: 0.86| Test Loss: 0.7190, Test Acc: 0.78\n",
            "Epoch [38/50] Train Loss: 0.4112, Train Acc: 0.86| Test Loss: 0.5999, Test Acc: 0.81\n",
            "Epoch [39/50] Train Loss: 0.4178, Train Acc: 0.86| Test Loss: 0.5205, Test Acc: 0.83\n",
            "Epoch [40/50] Train Loss: 0.4071, Train Acc: 0.86| Test Loss: 0.5590, Test Acc: 0.82\n",
            "Epoch [41/50] Train Loss: 0.4155, Train Acc: 0.86| Test Loss: 0.6092, Test Acc: 0.80\n",
            "Epoch [42/50] Train Loss: 0.4075, Train Acc: 0.86| Test Loss: 0.6209, Test Acc: 0.80\n",
            "Epoch [43/50] Train Loss: 0.4097, Train Acc: 0.86| Test Loss: 0.7094, Test Acc: 0.77\n",
            "Epoch [44/50] Train Loss: 0.4131, Train Acc: 0.86| Test Loss: 0.6789, Test Acc: 0.79\n",
            "Epoch [45/50] Train Loss: 0.4016, Train Acc: 0.86| Test Loss: 0.6051, Test Acc: 0.80\n",
            "Epoch [46/50] Train Loss: 0.4024, Train Acc: 0.86| Test Loss: 0.6294, Test Acc: 0.80\n",
            "Epoch [47/50] Train Loss: 0.4076, Train Acc: 0.86| Test Loss: 0.6222, Test Acc: 0.79\n",
            "Epoch [48/50] Train Loss: 0.4015, Train Acc: 0.86| Test Loss: 0.7022, Test Acc: 0.78\n",
            "Epoch [49/50] Train Loss: 0.4054, Train Acc: 0.86| Test Loss: 0.5083, Test Acc: 0.83\n",
            "Epoch [50/50] Train Loss: 0.3991, Train Acc: 0.86| Test Loss: 0.5201, Test Acc: 0.82\n"
          ]
        }
      ]
    },
    {
      "cell_type": "code",
      "source": [
        "# 绘制 Loss 曲线\n",
        "plt.plot(range(num_epochs), train_loss_history, label='Train Loss')\n",
        "plt.plot(range(num_epochs), test_loss_history, label='Test Loss')\n",
        "\n",
        "plt.xlabel('Epoch')\n",
        "plt.ylabel('Loss')\n",
        "plt.legend()\n",
        "plt.show()"
      ],
      "metadata": {
        "colab": {
          "base_uri": "https://localhost:8080/",
          "height": 449
        },
        "id": "2LAVlwz88Xp4",
        "outputId": "f677d246-6519-4ea7-f7ff-a9ecf453efe0"
      },
      "execution_count": 16,
      "outputs": [
        {
          "output_type": "display_data",
          "data": {
            "text/plain": [
              "<Figure size 640x480 with 1 Axes>"
            ],
            "image/png": "[encoded data removed]"
          },
          "metadata": {}
        }
      ]
    }
  ]
}