{
  "nbformat": 4,
  "nbformat_minor": 0,
  "metadata": {
    "colab": {
      "provenance": [],
      "machine_shape": "hm",
      "gpuType": "A100",
      "authorship_tag": "ABX9TyP0o6WX8Rdh7eHVGsPg2ZmJ",
      "include_colab_link": true
    },
    "kernelspec": {
      "name": "python3",
      "display_name": "Python 3"
    },
    "language_info": {
      "name": "python"
    },
    "accelerator": "GPU"
  },
  "cells": [
    {
      "cell_type": "markdown",
      "metadata": {
        "id": "view-in-github",
        "colab_type": "text"
      },
      "source": [
        "<a href=\"https://colab.research.google.com/github/yethegod/Cifar10_Resnet18/blob/main/Resnet_Cifar10ipynb.ipynb\" target=\"_parent\"><img src=\"https://colab.research.google.com/assets/colab-badge.svg\" alt=\"Open In Colab\"/></a>"
      ]
    },
    {
      "cell_type": "code",
      "source": [
        "from google.colab import drive\n",
        "drive.mount('/content/drive')"
      ],
      "metadata": {
        "colab": {
          "base_uri": "https://localhost:8080/"
        },
        "id": "TLRbKqBBmmcg",
        "outputId": "2e3dbeb7-503a-4fde-fd09-196652e0dd28"
      },
      "execution_count": 17,
      "outputs": [
        {
          "output_type": "stream",
          "name": "stdout",
          "text": [
            "Drive already mounted at /content/drive; to attempt to forcibly remount, call drive.mount(\"/content/drive\", force_remount=True).\n"
          ]
        }
      ]
    },
    {
      "cell_type": "code",
      "execution_count": 18,
      "metadata": {
        "id": "eYpcO1d3k9wY"
      },
      "outputs": [],
      "source": [
        "import torch\n",
        "import torch.nn as nn\n",
        "import torch.optim as optim\n",
        "import torchvision\n",
        "import torchvision.transforms as transforms"
      ]
    },
    {
      "cell_type": "code",
      "source": [
        "transform_train = transforms.Compose([\n",
        "    transforms.RandomCrop(32, padding=4),\n",
        "    transforms.RandomHorizontalFlip(),\n",
        "    transforms.ToTensor(),\n",
        "    transforms.Normalize((0.4914, 0.4822, 0.4465),\n",
        "                         (0.2023, 0.1994, 0.2010))\n",
        "])\n",
        "\n",
        "transform_test = transforms.Compose([\n",
        "    transforms.ToTensor(),\n",
        "    transforms.Normalize((0.4914, 0.4822, 0.4465),\n",
        "                         (0.2023, 0.1994, 0.2010))\n",
        "])\n",
        "\n",
        "train_dataset = torchvision.datasets.CIFAR10(\n",
        "    root='./data',\n",
        "    train=True,\n",
        "    download=True,\n",
        "    transform=transform_train\n",
        ")\n",
        "\n",
        "\n",
        "test_dataset = torchvision.datasets.CIFAR10(\n",
        "    root='./data',\n",
        "    train=False,\n",
        "    download=True,\n",
        "    transform=transform_test\n",
        ")\n",
        "\n",
        "train_loader = torch.utils.data.DataLoader(\n",
        "    train_dataset,\n",
        "    batch_size=128,\n",
        "    shuffle=True,\n",
        "    num_workers=2\n",
        ")\n",
        "\n",
        "test_loader = torch.utils.data.DataLoader(\n",
        "    test_dataset,\n",
        "    batch_size=128,\n",
        "    shuffle=False,\n",
        "    num_workers=2\n",
        ")\n",
        "\n",
        "device = torch.device(\"cuda\" if torch.cuda.is_available() else \"cpu\")\n",
        "print(\"Using device:\", device)"
      ],
      "metadata": {
        "colab": {
          "base_uri": "https://localhost:8080/"
        },
        "id": "AqtVN3CnlbA_",
        "outputId": "54ec7035-dcc7-472c-f469-dc1ea5b4bd71"
      },
      "execution_count": 19,
      "outputs": [
        {
          "output_type": "stream",
          "name": "stdout",
          "text": [
            "Files already downloaded and verified\n",
            "Files already downloaded and verified\n",
            "Using device: cuda\n"
          ]
        }
      ]
    },
    {
      "cell_type": "code",
      "source": [
        "class BasicBlock(nn.Module):\n",
        "  expansion = 1\n",
        "\n",
        "  def __init__(self, in_planes, planes, stride=1):\n",
        "    super(BasicBlock, self).__init__()\n",
        "    self.conv1 = nn.Conv2d(in_planes, planes, kernel_size=3, stride=stride, padding=1, bias=False)\n",
        "    self.bn1 = nn.BatchNorm2d(planes)\n",
        "    self.relu = nn.ReLU(inplace=True)\n",
        "    self.conv2 = nn.Conv2d(planes, planes, kernel_size=3, stride=1, padding=1, bias=False)\n",
        "    self.bn2 = nn.BatchNorm2d(planes)\n",
        "\n",
        "    self.shortcut = nn.Sequential()\n",
        "    if stride != 1 or in_planes != self.expansion * planes:\n",
        "      self.shortcut = nn.Sequential(\n",
        "          nn.Conv2d(in_planes, self.expansion * planes, kernel_size=1, stride=stride, bias=False),\n",
        "          nn.BatchNorm2d(self.expansion * planes)\n",
        "      )\n",
        "\n",
        "  def forward(self, x):\n",
        "   out = self.relu(self.bn1(self.conv1(x)))\n",
        "   out = self.bn2(self.conv2(out))\n",
        "   out += self.shortcut(x)\n",
        "   return out"
      ],
      "metadata": {
        "id": "qmaVBW4qod3Q"
      },
      "execution_count": 20,
      "outputs": []
    },
    {
      "cell_type": "code",
      "source": [
        "class resnet(nn.Module):\n",
        "  def __init__(self, block, num_blocks, num_classes=10):\n",
        "    super(resnet, self).__init__()\n",
        "    self.in_planes = 64\n",
        "\n",
        "    self.conv1 = nn.Conv2d(3, 64, kernel_size=3, stride=1, padding=1, bias=False)\n",
        "    self.bn1 = nn.BatchNorm2d(64)\n",
        "    self.relu = nn.ReLU(inplace=True)\n",
        "    self.layer1 = self._make_layer(block, 64, num_blocks[0], stride=1)\n",
        "    self.layer2 = self._make_layer(block, 128, num_blocks[1], stride=2)\n",
        "    self.layer3 = self._make_layer(block, 256, num_blocks[2], stride=2)\n",
        "    self.layer4 = self._make_layer(block, 512, num_blocks[3], stride=2)\n",
        "\n",
        "    self.avgpool = nn.AdaptiveAvgPool2d((1, 1))\n",
        "    self.fc = nn.Linear(512 * block.expansion, num_classes)\n",
        "\n",
        "    for m in self.modules():\n",
        "      if isinstance(m, nn.Conv2d):\n",
        "        nn.init.kaiming_normal_(m.weight, mode='fan_out', nonlinearity='relu')\n",
        "      elif isinstance(m, (nn.BatchNorm2d, nn.GroupNorm)):\n",
        "        nn.init.constant_(m.weight, 1)\n",
        "        nn.init.constant_(m.bias, 0)\n",
        "\n",
        "  def _make_layer(self, block, planes, num_blocks, stride):\n",
        "    strides = [stride] + [1] * (num_blocks - 1)\n",
        "    layers = []\n",
        "    for s in strides:\n",
        "      layers.append(block(self.in_planes, planes, s))\n",
        "      self.in_planes = planes * block.expansion\n",
        "    return nn.Sequential(*layers)\n",
        "\n",
        "  def forward(self, x):\n",
        "    x = self.conv1(x)\n",
        "    x = self.bn1(x)\n",
        "    x = self.relu(x)\n",
        "\n",
        "    x = self.layer1(x)\n",
        "    x = self.layer2(x)\n",
        "    x = self.layer3(x)\n",
        "    x = self.layer4(x)\n",
        "\n",
        "    x = self.avgpool(x)\n",
        "    x = torch.flatten(x, 1)\n",
        "    x = self.fc(x)\n",
        "    return x"
      ],
      "metadata": {
        "id": "jg9BJ2gIqF40"
      },
      "execution_count": 21,
      "outputs": []
    },
    {
      "cell_type": "code",
      "source": [
        "def resnet18(num_classes=10):\n",
        "  return resnet(BasicBlock, [2, 2, 2, 2], num_classes=num_classes)"
      ],
      "metadata": {
        "id": "rHAzQt1Uy6i9"
      },
      "execution_count": 22,
      "outputs": []
    },
    {
      "cell_type": "code",
      "source": [
        "model = resnet18(num_classes=10).to(device)\n",
        "criterion = nn.CrossEntropyLoss()\n",
        "optimizer = optim.SGD(model.parameters(), lr=0.1, momentum=0.9, weight_decay=5e-4)"
      ],
      "metadata": {
        "id": "9q2t9gjZzcgp"
      },
      "execution_count": 23,
      "outputs": []
    },
    {
      "cell_type": "code",
      "source": [
        "def train_one_epoch(model, criterion, optimizer, train_loader, device):\n",
        "  model.train()\n",
        "  running_loss = 0.0\n",
        "  correct = 0\n",
        "  total = 0\n",
        "\n",
        "  for inputs, labels in train_loader:\n",
        "    inputs, labels = inputs.to(device), labels.to(device)\n",
        "\n",
        "    optimizer.zero_grad()\n",
        "\n",
        "    outputs = model(inputs)\n",
        "    loss = criterion(outputs, labels)\n",
        "    loss.backward()\n",
        "    optimizer.step()\n",
        "\n",
        "    running_loss += loss.item()*inputs.size(0)\n",
        "    _, predicted = outputs.max(1)\n",
        "    total += labels.size(0)\n",
        "    correct += predicted.eq(labels).sum().item()\n",
        "\n",
        "  epoch_loss = running_loss / total\n",
        "  epoch_acc = correct / total\n",
        "  return epoch_loss, epoch_acc"
      ],
      "metadata": {
        "id": "NKmCCLXCzhGQ"
      },
      "execution_count": 24,
      "outputs": []
    },
    {
      "cell_type": "code",
      "source": [
        "def evaluate(model, criterion, test_loader, device):\n",
        "  model.eval()\n",
        "  running_loss = 0.0\n",
        "  correct = 0\n",
        "  total = 0\n",
        "\n",
        "  with torch.no_grad():\n",
        "    for inputs, labels in test_loader:\n",
        "      inputs, labels = inputs.to(device), labels.to(device)\n",
        "      outputs = model(inputs)\n",
        "      loss = criterion(outputs, labels)\n",
        "\n",
        "      running_loss += loss.item()*inputs.size(0)\n",
        "      _, predicted = outputs.max(1)\n",
        "      total += labels.size(0)\n",
        "      correct += predicted.eq(labels).sum().item()\n",
        "  epoch_loss = running_loss / total\n",
        "  epoch_acc = correct / total\n",
        "  return epoch_loss, epoch_acc"
      ],
      "metadata": {
        "id": "ntWZ8kV98Bcw"
      },
      "execution_count": 25,
      "outputs": []
    },
    {
      "cell_type": "code",
      "source": [
        "import matplotlib.pyplot as plt\n",
        "\n",
        "num_epochs = 50\n",
        "\n",
        "train_loss_history = []\n",
        "test_loss_history = []\n",
        "\n",
        "for epoch in range(num_epochs):\n",
        "    train_loss, train_acc = train_one_epoch(model, criterion, optimizer, train_loader, device)\n",
        "    test_loss, test_acc = evaluate(model, criterion, test_loader, device)\n",
        "\n",
        "\n",
        "    print(f\"Epoch [{epoch+1}/{num_epochs}] \"\n",
        "          f\"Train Loss: {train_loss:.4f}, Train Acc: {train_acc:.2f}| \"\n",
        "          f\"Test Loss: {test_loss:.4f}, Test Acc: {test_acc:.2f}\")\n",
        "\n",
        "\n",
        "    train_loss_history.append(train_loss)\n",
        "    test_loss_history.append(test_loss)"
      ],
      "metadata": {
        "colab": {
          "base_uri": "https://localhost:8080/"
        },
        "id": "lhYAMD0Y8PnN",
        "outputId": "9e7f1e52-7560-49b8-f3b1-4f249ce7465d"
      },
      "execution_count": 26,
      "outputs": [
        {
          "output_type": "stream",
          "name": "stdout",
          "text": [
            "Epoch [1/50] Train Loss: 1.6525, Train Acc: 0.39| Test Loss: 1.3533, Test Acc: 0.52\n",
            "Epoch [2/50] Train Loss: 1.2308, Train Acc: 0.56| Test Loss: 1.1138, Test Acc: 0.61\n",
            "Epoch [3/50] Train Loss: 0.9639, Train Acc: 0.66| Test Loss: 0.8785, Test Acc: 0.70\n",
            "Epoch [4/50] Train Loss: 0.8041, Train Acc: 0.72| Test Loss: 0.7359, Test Acc: 0.74\n",
            "Epoch [5/50] Train Loss: 0.7172, Train Acc: 0.75| Test Loss: 0.7209, Test Acc: 0.75\n",
            "Epoch [6/50] Train Loss: 0.6514, Train Acc: 0.77| Test Loss: 0.7980, Test Acc: 0.73\n",
            "Epoch [7/50] Train Loss: 0.6122, Train Acc: 0.79| Test Loss: 0.8556, Test Acc: 0.71\n",
            "Epoch [8/50] Train Loss: 0.5881, Train Acc: 0.80| Test Loss: 0.6460, Test Acc: 0.78\n",
            "Epoch [9/50] Train Loss: 0.5692, Train Acc: 0.80| Test Loss: 0.7940, Test Acc: 0.72\n",
            "Epoch [10/50] Train Loss: 0.5502, Train Acc: 0.81| Test Loss: 0.7908, Test Acc: 0.74\n",
            "Epoch [11/50] Train Loss: 0.5287, Train Acc: 0.82| Test Loss: 0.7037, Test Acc: 0.77\n",
            "Epoch [12/50] Train Loss: 0.5250, Train Acc: 0.82| Test Loss: 0.5621, Test Acc: 0.81\n",
            "Epoch [13/50] Train Loss: 0.5097, Train Acc: 0.82| Test Loss: 0.6261, Test Acc: 0.79\n",
            "Epoch [14/50] Train Loss: 0.4956, Train Acc: 0.83| Test Loss: 0.6416, Test Acc: 0.79\n",
            "Epoch [15/50] Train Loss: 0.4860, Train Acc: 0.83| Test Loss: 0.6476, Test Acc: 0.78\n",
            "Epoch [16/50] Train Loss: 0.4780, Train Acc: 0.83| Test Loss: 0.5819, Test Acc: 0.81\n",
            "Epoch [17/50] Train Loss: 0.4730, Train Acc: 0.84| Test Loss: 0.6261, Test Acc: 0.80\n",
            "Epoch [18/50] Train Loss: 0.4692, Train Acc: 0.84| Test Loss: 0.5184, Test Acc: 0.82\n",
            "Epoch [19/50] Train Loss: 0.4578, Train Acc: 0.84| Test Loss: 0.6456, Test Acc: 0.78\n",
            "Epoch [20/50] Train Loss: 0.4532, Train Acc: 0.84| Test Loss: 0.8484, Test Acc: 0.74\n",
            "Epoch [21/50] Train Loss: 0.4539, Train Acc: 0.84| Test Loss: 0.5495, Test Acc: 0.82\n",
            "Epoch [22/50] Train Loss: 0.4480, Train Acc: 0.85| Test Loss: 0.5377, Test Acc: 0.82\n",
            "Epoch [23/50] Train Loss: 0.4446, Train Acc: 0.85| Test Loss: 0.5606, Test Acc: 0.81\n",
            "Epoch [24/50] Train Loss: 0.4397, Train Acc: 0.85| Test Loss: 0.6227, Test Acc: 0.80\n",
            "Epoch [25/50] Train Loss: 0.4424, Train Acc: 0.85| Test Loss: 0.5067, Test Acc: 0.83\n",
            "Epoch [26/50] Train Loss: 0.4372, Train Acc: 0.85| Test Loss: 0.5295, Test Acc: 0.82\n",
            "Epoch [27/50] Train Loss: 0.4252, Train Acc: 0.85| Test Loss: 0.5344, Test Acc: 0.82\n",
            "Epoch [28/50] Train Loss: 0.4330, Train Acc: 0.85| Test Loss: 0.6212, Test Acc: 0.81\n",
            "Epoch [29/50] Train Loss: 0.4300, Train Acc: 0.85| Test Loss: 0.5633, Test Acc: 0.81\n",
            "Epoch [30/50] Train Loss: 0.4281, Train Acc: 0.85| Test Loss: 0.6608, Test Acc: 0.78\n",
            "Epoch [31/50] Train Loss: 0.4200, Train Acc: 0.86| Test Loss: 0.4349, Test Acc: 0.85\n",
            "Epoch [32/50] Train Loss: 0.4222, Train Acc: 0.86| Test Loss: 0.5095, Test Acc: 0.83\n",
            "Epoch [33/50] Train Loss: 0.4236, Train Acc: 0.85| Test Loss: 0.5103, Test Acc: 0.83\n",
            "Epoch [34/50] Train Loss: 0.4178, Train Acc: 0.86| Test Loss: 0.5918, Test Acc: 0.80\n",
            "Epoch [35/50] Train Loss: 0.4186, Train Acc: 0.86| Test Loss: 0.6630, Test Acc: 0.79\n",
            "Epoch [36/50] Train Loss: 0.4156, Train Acc: 0.86| Test Loss: 0.6286, Test Acc: 0.80\n",
            "Epoch [37/50] Train Loss: 0.4183, Train Acc: 0.86| Test Loss: 0.5340, Test Acc: 0.82\n",
            "Epoch [38/50] Train Loss: 0.4138, Train Acc: 0.86| Test Loss: 0.4781, Test Acc: 0.84\n",
            "Epoch [39/50] Train Loss: 0.4124, Train Acc: 0.86| Test Loss: 0.5758, Test Acc: 0.82\n",
            "Epoch [40/50] Train Loss: 0.4097, Train Acc: 0.86| Test Loss: 0.6892, Test Acc: 0.78\n",
            "Epoch [41/50] Train Loss: 0.4085, Train Acc: 0.86| Test Loss: 0.4907, Test Acc: 0.83\n",
            "Epoch [42/50] Train Loss: 0.4095, Train Acc: 0.86| Test Loss: 0.4838, Test Acc: 0.84\n",
            "Epoch [43/50] Train Loss: 0.4081, Train Acc: 0.86| Test Loss: 0.5971, Test Acc: 0.82\n",
            "Epoch [44/50] Train Loss: 0.4062, Train Acc: 0.86| Test Loss: 0.4617, Test Acc: 0.85\n",
            "Epoch [45/50] Train Loss: 0.4061, Train Acc: 0.86| Test Loss: 0.7451, Test Acc: 0.76\n",
            "Epoch [46/50] Train Loss: 0.4099, Train Acc: 0.86| Test Loss: 0.4596, Test Acc: 0.85\n",
            "Epoch [47/50] Train Loss: 0.4035, Train Acc: 0.86| Test Loss: 0.5584, Test Acc: 0.82\n",
            "Epoch [48/50] Train Loss: 0.4060, Train Acc: 0.86| Test Loss: 0.4741, Test Acc: 0.84\n",
            "Epoch [49/50] Train Loss: 0.3987, Train Acc: 0.86| Test Loss: 0.6431, Test Acc: 0.80\n",
            "Epoch [50/50] Train Loss: 0.3995, Train Acc: 0.86| Test Loss: 0.6121, Test Acc: 0.81\n"
          ]
        }
      ]
    },
    {
      "cell_type": "code",
      "source": [
        "\n",
        "plt.plot(range(num_epochs), train_loss_history, label='Train Loss')\n",
        "\n",
        "plt.xlabel('Epoch')\n",
        "plt.ylabel('Loss')\n",
        "plt.legend()\n",
        "plt.show()"
      ],
      "metadata": {
        "colab": {
          "base_uri": "https://localhost:8080/",
          "height": 449
        },
        "id": "2LAVlwz88Xp4",
        "outputId": "e0fa429e-4911-4446-a52a-607d598b7915"
      },
      "execution_count": 27,
      "outputs": [
        {
          "output_type": "display_data",
          "data": {
            "text/plain": [
              "<Figure size 640x480 with 1 Axes>"
            ],
            "image/png": "[encoded data removed]"
          },
          "metadata": {}
        }
      ]
    }
  ]
}